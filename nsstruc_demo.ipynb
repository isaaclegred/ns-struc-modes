{
  "nbformat": 4,
  "nbformat_minor": 0,
  "metadata": {
    "colab": {
      "name": "nsstruc_demo.ipynb",
      "provenance": [],
      "collapsed_sections": []
    },
    "kernelspec": {
      "name": "python3",
      "display_name": "Python 3"
    },
    "language_info": {
      "name": "python"
    }
  },
  "cells": [
    {
      "cell_type": "code",
      "metadata": {
        "id": "Y6GN8tYmI7zi"
      },
      "source": [
        "# NSSTRUC_DEMO.IPYNB -- minimal working example of running the ns-struc TOV solver from within a python notebook"
      ],
      "execution_count": 1,
      "outputs": []
    },
    {
      "cell_type": "code",
      "metadata": {
        "colab": {
          "base_uri": "https://localhost:8080/"
        },
        "id": "k_HR1O5ByRCR",
        "outputId": "44fdbc4e-583e-4b58-d6ea-dc6addec70cb"
      },
      "source": [
        "# download and install the code\n",
        "\n",
        "%%bash\n",
        "# make this cell an instance of a terminal\n",
        "\n",
        "git clone https://github.com/landryp/ns-struc-modes.git # download code repository from https://github.com/landryp/ns-struc/tree/enthalpy\n",
        "\n",
        "mkdir /opt/bin /opt/lib/ /opt/lib/python2.7 /opt/lib/python2.7/site-packages # create install directory and make it findable\n",
        "export PATH=$PATH:/opt/bin\n",
        "export PYTHONPATH=$PYTHONPATH:/opt/lib/python2.7/site-packages\n",
        "\n",
        "cd ns-struc-modes # install code\n",
        "python2 setup.py install --prefix /opt/\n",
        "\n",
        "echo -e '\\n *** \\n'\n",
        "\n",
        "getnsprops -h # this is the executable from ns-struc that solves the TOV equations to compute neutron star observables; print its help string to see the syntax for calling it\n",
        "\n",
        "echo -e '\\n *** \\n'"
      ],
      "execution_count": 2,
      "outputs": [
        {
          "output_type": "stream",
          "name": "stdout",
          "text": [
            "running install\n",
            "running bdist_egg\n",
            "running egg_info\n",
            "creating ns_struc_modes.egg-info\n",
            "writing ns_struc_modes.egg-info/PKG-INFO\n",
            "writing top-level names to ns_struc_modes.egg-info/top_level.txt\n",
            "writing dependency_links to ns_struc_modes.egg-info/dependency_links.txt\n",
            "writing manifest file 'ns_struc_modes.egg-info/SOURCES.txt'\n",
            "writing manifest file 'ns_struc_modes.egg-info/SOURCES.txt'\n",
            "installing library code to build/bdist.linux-x86_64/egg\n",
            "running install_lib\n",
            "running build_py\n",
            "creating build\n",
            "creating build/lib.linux-x86_64-2.7\n",
            "creating build/lib.linux-x86_64-2.7/nsstruc\n",
            "copying nsstruc/struceqs.py -> build/lib.linux-x86_64-2.7/nsstruc\n",
            "copying nsstruc/constants.py -> build/lib.linux-x86_64-2.7/nsstruc\n",
            "copying nsstruc/tov.py -> build/lib.linux-x86_64-2.7/nsstruc\n",
            "copying nsstruc/pltsetup.py -> build/lib.linux-x86_64-2.7/nsstruc\n",
            "copying nsstruc/__init__.py -> build/lib.linux-x86_64-2.7/nsstruc\n",
            "copying nsstruc/branch.py -> build/lib.linux-x86_64-2.7/nsstruc\n",
            "copying nsstruc/macro.py -> build/lib.linux-x86_64-2.7/nsstruc\n",
            "creating build/bdist.linux-x86_64\n",
            "creating build/bdist.linux-x86_64/egg\n",
            "creating build/bdist.linux-x86_64/egg/nsstruc\n",
            "copying build/lib.linux-x86_64-2.7/nsstruc/struceqs.py -> build/bdist.linux-x86_64/egg/nsstruc\n",
            "copying build/lib.linux-x86_64-2.7/nsstruc/constants.py -> build/bdist.linux-x86_64/egg/nsstruc\n",
            "copying build/lib.linux-x86_64-2.7/nsstruc/tov.py -> build/bdist.linux-x86_64/egg/nsstruc\n",
            "copying build/lib.linux-x86_64-2.7/nsstruc/pltsetup.py -> build/bdist.linux-x86_64/egg/nsstruc\n",
            "copying build/lib.linux-x86_64-2.7/nsstruc/__init__.py -> build/bdist.linux-x86_64/egg/nsstruc\n",
            "copying build/lib.linux-x86_64-2.7/nsstruc/branch.py -> build/bdist.linux-x86_64/egg/nsstruc\n",
            "copying build/lib.linux-x86_64-2.7/nsstruc/macro.py -> build/bdist.linux-x86_64/egg/nsstruc\n",
            "byte-compiling build/bdist.linux-x86_64/egg/nsstruc/struceqs.py to struceqs.pyc\n",
            "byte-compiling build/bdist.linux-x86_64/egg/nsstruc/constants.py to constants.pyc\n",
            "byte-compiling build/bdist.linux-x86_64/egg/nsstruc/tov.py to tov.pyc\n",
            "byte-compiling build/bdist.linux-x86_64/egg/nsstruc/pltsetup.py to pltsetup.pyc\n",
            "byte-compiling build/bdist.linux-x86_64/egg/nsstruc/__init__.py to __init__.pyc\n",
            "byte-compiling build/bdist.linux-x86_64/egg/nsstruc/branch.py to branch.pyc\n",
            "byte-compiling build/bdist.linux-x86_64/egg/nsstruc/macro.py to macro.pyc\n",
            "creating build/bdist.linux-x86_64/egg/EGG-INFO\n",
            "installing scripts to build/bdist.linux-x86_64/egg/EGG-INFO/scripts\n",
            "running install_scripts\n",
            "running build_scripts\n",
            "creating build/scripts-2.7\n",
            "copying and adjusting bin/getpaths -> build/scripts-2.7\n",
            "copying and adjusting bin/getnsprops -> build/scripts-2.7\n",
            "copying bin/compare -> build/scripts-2.7\n",
            "copying bin/makemacro -> build/scripts-2.7\n",
            "copying and adjusting bin/plotur -> build/scripts-2.7\n",
            "copying and adjusting bin/comparemacro -> build/scripts-2.7\n",
            "copying and adjusting bin/getmacro -> build/scripts-2.7\n",
            "copying and adjusting bin/plotcsv -> build/scripts-2.7\n",
            "copying and adjusting bin/plotprops -> build/scripts-2.7\n",
            "copying and adjusting bin/compareprops -> build/scripts-2.7\n",
            "copying and adjusting bin/splitbranches -> build/scripts-2.7\n",
            "changing mode of build/scripts-2.7/getpaths from 644 to 755\n",
            "changing mode of build/scripts-2.7/getnsprops from 644 to 755\n",
            "changing mode of build/scripts-2.7/plotur from 644 to 755\n",
            "changing mode of build/scripts-2.7/comparemacro from 644 to 755\n",
            "changing mode of build/scripts-2.7/getmacro from 644 to 755\n",
            "changing mode of build/scripts-2.7/plotcsv from 644 to 755\n",
            "changing mode of build/scripts-2.7/plotprops from 644 to 755\n",
            "changing mode of build/scripts-2.7/compareprops from 644 to 755\n",
            "changing mode of build/scripts-2.7/splitbranches from 644 to 755\n",
            "creating build/bdist.linux-x86_64/egg/EGG-INFO/scripts\n",
            "copying build/scripts-2.7/getpaths -> build/bdist.linux-x86_64/egg/EGG-INFO/scripts\n",
            "copying build/scripts-2.7/getnsprops -> build/bdist.linux-x86_64/egg/EGG-INFO/scripts\n",
            "copying build/scripts-2.7/compare -> build/bdist.linux-x86_64/egg/EGG-INFO/scripts\n",
            "copying build/scripts-2.7/makemacro -> build/bdist.linux-x86_64/egg/EGG-INFO/scripts\n",
            "copying build/scripts-2.7/plotur -> build/bdist.linux-x86_64/egg/EGG-INFO/scripts\n",
            "copying build/scripts-2.7/comparemacro -> build/bdist.linux-x86_64/egg/EGG-INFO/scripts\n",
            "copying build/scripts-2.7/getmacro -> build/bdist.linux-x86_64/egg/EGG-INFO/scripts\n",
            "copying build/scripts-2.7/plotcsv -> build/bdist.linux-x86_64/egg/EGG-INFO/scripts\n",
            "copying build/scripts-2.7/plotprops -> build/bdist.linux-x86_64/egg/EGG-INFO/scripts\n",
            "copying build/scripts-2.7/compareprops -> build/bdist.linux-x86_64/egg/EGG-INFO/scripts\n",
            "copying build/scripts-2.7/splitbranches -> build/bdist.linux-x86_64/egg/EGG-INFO/scripts\n",
            "changing mode of build/bdist.linux-x86_64/egg/EGG-INFO/scripts/getpaths to 755\n",
            "changing mode of build/bdist.linux-x86_64/egg/EGG-INFO/scripts/getnsprops to 755\n",
            "changing mode of build/bdist.linux-x86_64/egg/EGG-INFO/scripts/compare to 755\n",
            "changing mode of build/bdist.linux-x86_64/egg/EGG-INFO/scripts/makemacro to 755\n",
            "changing mode of build/bdist.linux-x86_64/egg/EGG-INFO/scripts/plotur to 755\n",
            "changing mode of build/bdist.linux-x86_64/egg/EGG-INFO/scripts/comparemacro to 755\n",
            "changing mode of build/bdist.linux-x86_64/egg/EGG-INFO/scripts/getmacro to 755\n",
            "changing mode of build/bdist.linux-x86_64/egg/EGG-INFO/scripts/plotcsv to 755\n",
            "changing mode of build/bdist.linux-x86_64/egg/EGG-INFO/scripts/plotprops to 755\n",
            "changing mode of build/bdist.linux-x86_64/egg/EGG-INFO/scripts/compareprops to 755\n",
            "changing mode of build/bdist.linux-x86_64/egg/EGG-INFO/scripts/splitbranches to 755\n",
            "copying ns_struc_modes.egg-info/PKG-INFO -> build/bdist.linux-x86_64/egg/EGG-INFO\n",
            "copying ns_struc_modes.egg-info/SOURCES.txt -> build/bdist.linux-x86_64/egg/EGG-INFO\n",
            "copying ns_struc_modes.egg-info/dependency_links.txt -> build/bdist.linux-x86_64/egg/EGG-INFO\n",
            "copying ns_struc_modes.egg-info/top_level.txt -> build/bdist.linux-x86_64/egg/EGG-INFO\n",
            "creating dist\n",
            "creating 'dist/ns_struc_modes-0.0-py2.7.egg' and adding 'build/bdist.linux-x86_64/egg' to it\n",
            "removing 'build/bdist.linux-x86_64/egg' (and everything under it)\n",
            "Creating /opt/lib/python2.7/site-packages/site.py\n",
            "Processing ns_struc_modes-0.0-py2.7.egg\n",
            "Copying ns_struc_modes-0.0-py2.7.egg to /opt/lib/python2.7/site-packages\n",
            "Adding ns-struc-modes 0.0 to easy-install.pth file\n",
            "Installing splitbranches script to /opt//bin\n",
            "Installing plotur script to /opt//bin\n",
            "Installing plotcsv script to /opt//bin\n",
            "Installing getpaths script to /opt//bin\n",
            "Installing comparemacro script to /opt//bin\n",
            "Installing compareprops script to /opt//bin\n",
            "Installing getnsprops script to /opt//bin\n",
            "Installing compare script to /opt//bin\n",
            "Installing getmacro script to /opt//bin\n",
            "Installing plotprops script to /opt//bin\n",
            "Installing makemacro script to /opt//bin\n",
            "\n",
            "Installed /opt/lib/python2.7/site-packages/ns_struc_modes-0.0-py2.7.egg\n",
            "Processing dependencies for ns-struc-modes==0.0\n",
            "Finished processing dependencies for ns-struc-modes==0.0\n",
            "\n",
            " *** \n",
            "\n",
            "Usage: getnsprops EoS1.csv,EoS2.csv,... [-v] [-p R,M,Lambda,...] [-n 200] [-r 0.8,12] [-d ./eos/] [-o ./dat/]\n",
            "\n",
            "GETNSPROPS -- calculate NS properties as a function of central density for\n",
            "selected EoSs\n",
            "\n",
            "Options:\n",
            "  -h, --help            show this help message and exit\n",
            "  -p R,M,Lambda, --props=R,M,Lambda\n",
            "                        comma-separated list of NS properties to calculate,\n",
            "                        DEFAULT=R,M,Lambda\n",
            "  -n 2e2, --numrhoc=2e2\n",
            "                        number of central densities to sample per EoS,\n",
            "                        DEFAULT=200\n",
            "  -r 0.8,1.2e1, --rhorng=0.8,1.2e1\n",
            "                        comma-separated min and max values for central density\n",
            "                        in units of rhonuc, DEFAULT=0.8,1.2e1\n",
            "  -m Mmin,Mmax, --mrng=Mmin,Mmax\n",
            "                        use mass range instead of central density range,\n",
            "                        DEFAULT=False\n",
            "  -s 1e-4, --stpi=1e-4  starting fractional enthalpy step size for TOV\n",
            "                        integration, DEFAULT=1e-4\n",
            "  -N 2e3, --numpts=2e3  number of enthalpy points for TOV integration,\n",
            "                        DEFAULT=2e3\n",
            "  -T 5e1, --tol=5e1     pressure tolerance for surface finding algorithm in\n",
            "                        g/cm^3, DEFAULT=5e1\n",
            "  -d ./eos/, --dir=./eos/\n",
            "                        path to directory housing EoS data, DEFAULT=./eos/\n",
            "  -o ./dat/, --outdir=./dat/\n",
            "                        path to output directory, DEFAULT=./dat/\n",
            "  -t macro-, --tag=macro-\n",
            "                        tag for output data file, DEFAULT=macro-\n",
            "  -v, --verbose         toggle verbose output, DEFAULT=False\n",
            "\n",
            " *** \n",
            "\n"
          ]
        },
        {
          "output_type": "stream",
          "name": "stderr",
          "text": [
            "Cloning into 'ns-struc-modes'...\n",
            "zip_safe flag not set; analyzing archive contents...\n"
          ]
        }
      ]
    },
    {
      "cell_type": "code",
      "metadata": {
        "colab": {
          "base_uri": "https://localhost:8080/"
        },
        "id": "kEz6ddtmnqEF",
        "outputId": "ffe1b754-ab9f-4a12-eb5f-7d9066728d01"
      },
      "source": [
        "# calculate neutron star observables for a given equation of state\n",
        "\n",
        "%%bash\n",
        "# this cell is a separate terminal instance\n",
        "\n",
        "export PATH=$PATH:/opt/bin # the code doesn't need to be reinstalled in each terminal, but we do need to point to the install directory like this each time\n",
        "export PYTHONPATH=$PYTHONPATH:/opt/lib/python2.7/site-packages\n",
        "\n",
        "getnsprops mpa1.csv -p M,R,Lambda -m 1.,3. -d ns-struc-modes/ -o ./ -v # call the executable that computes the neutron star observables\n",
        "# getnsprops [eos table] -p [observables to calculate] -m [mass range to calculate them for] -d [directory where the eos table lives] -o [directory where the table of observables should be output]"
      ],
      "execution_count": 3,
      "outputs": [
        {
          "output_type": "stream",
          "name": "stdout",
          "text": [
            "Calculate properties of mpa1 stars\n",
            "Start at mass 1.0 Msun\n",
            "Done at mass 3.0 Msun\n"
          ]
        }
      ]
    },
    {
      "cell_type": "code",
      "metadata": {
        "colab": {
          "base_uri": "https://localhost:8080/",
          "height": 287
        },
        "id": "XZklKnEuJo9R",
        "outputId": "cfecc199-20fa-40b0-84c9-d5680f128355"
      },
      "source": [
        "# load the table of observables and plot the mass-radius relation predicted by the given equation of state\n",
        "\n",
        "# this is a normal python notebook cell\n",
        "\n",
        "import numpy as np # import packages\n",
        "import matplotlib.pyplot as plt\n",
        "\n",
        "mrl_data = np.genfromtxt('macro-mpa1.csv',delimiter=',',names=True,dtype=None) # load the table of neutron star observables that was created above\n",
        "\n",
        "plt.plot(mrl_data['R'],mrl_data['M']) # plot the mass-radius relation\n",
        "\n",
        "plt.xlabel(r'$R$ [km]') # add plot labels, etc.\n",
        "plt.ylabel(r'$M$ [$M_\\odot$]')\n",
        "plt.xlim(8.,16.)\n",
        "plt.ylim(1.,3.)\n",
        "plt.show()"
      ],
      "execution_count": 4,
      "outputs": [
        {
          "output_type": "display_data",
          "data": {
            "image/png": "[encoded data removed]",
            "text/plain": [
              "<Figure size 432x288 with 1 Axes>"
            ]
          },
          "metadata": {
            "needs_background": "light"
          }
        }
      ]
    }
  ]
}